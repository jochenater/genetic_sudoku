{
 "cells": [
  {
   "cell_type": "markdown",
   "metadata": {},
   "source": [
    "To get sudokus\n",
    "https://github.com/dimitri/sudoku/blob/master/sudoku.txt"
   ]
  },
  {
   "cell_type": "markdown",
   "metadata": {},
   "source": [
    "# Import"
   ]
  },
  {
   "cell_type": "code",
   "execution_count": 1,
   "metadata": {},
   "outputs": [],
   "source": [
    "import pandas as pd\n",
    "import numpy as np\n",
    "import sys"
   ]
  },
  {
   "cell_type": "markdown",
   "metadata": {},
   "source": [
    "# Original"
   ]
  },
  {
   "cell_type": "code",
   "execution_count": 2,
   "metadata": {},
   "outputs": [],
   "source": [
    "original = \"003020600900305001001806400008102900700000008006708200002609500800203009005010300\"\n",
    "solution = \"483921657967345821251876493548132976729564138136798245372689514814253769695417382\""
   ]
  },
  {
   "cell_type": "markdown",
   "metadata": {},
   "source": [
    "# Functions"
   ]
  },
  {
   "cell_type": "code",
   "execution_count": 3,
   "metadata": {},
   "outputs": [],
   "source": [
    "def string2df(s):\n",
    "    return pd.DataFrame(np.array(list(s.replace('0', ' '))).reshape((9,9)))"
   ]
  },
  {
   "cell_type": "code",
   "execution_count": 4,
   "metadata": {},
   "outputs": [],
   "source": [
    "def get_mutables(s):\n",
    "    return list(np.where(np.array(list(s)) == '0')[0])"
   ]
  },
  {
   "cell_type": "code",
   "execution_count": 5,
   "metadata": {},
   "outputs": [],
   "source": [
    "def _generate_init(s):\n",
    "    return ''.join([x if x != '0' else str(np.random.randint(1,10)) for x in list(s)] )"
   ]
  },
  {
   "cell_type": "code",
   "execution_count": 6,
   "metadata": {},
   "outputs": [],
   "source": [
    "def generate_inits(s, how_many=1000):\n",
    "    return [_generate_init(s) for x in range(how_many)]"
   ]
  },
  {
   "cell_type": "code",
   "execution_count": 7,
   "metadata": {},
   "outputs": [],
   "source": [
    "def _score_set_of_9(set_of_9):\n",
    "    return 9 - np.unique(list(set_of_9)).shape[0]"
   ]
  },
  {
   "cell_type": "code",
   "execution_count": 8,
   "metadata": {},
   "outputs": [],
   "source": [
    "def _get_combos(s):\n",
    "    \"\"\" rows, columns and the suares \"\"\"\n",
    "    rows = [s[9*i:9*i+9] for i in range(9)]\n",
    "    cols = [s[i:81:9] for i in range(9)]\n",
    "    suares = [''.join([s[3*i:3*i+3] for i in range(x, x+9, 3)]) for x in range(21) if x%9 in [0,1,2]]\n",
    "    return rows + cols + suares"
   ]
  },
  {
   "cell_type": "code",
   "execution_count": 9,
   "metadata": {},
   "outputs": [],
   "source": [
    "def score_single(s):\n",
    "    combos = _get_combos(s)\n",
    "    return np.sum([_score_set_of_9(combo) for combo in combos])"
   ]
  },
  {
   "cell_type": "code",
   "execution_count": 10,
   "metadata": {},
   "outputs": [],
   "source": [
    "def score_population(population):\n",
    "    return [score_single(x) for x in population]"
   ]
  },
  {
   "cell_type": "code",
   "execution_count": 11,
   "metadata": {},
   "outputs": [],
   "source": [
    "def _make_kids(p1, p2):\n",
    "    random_cut = np.random.randint(1, len(p1))\n",
    "    c1 = p1[:random_cut] + p2[random_cut:]\n",
    "    c2 = p2[:random_cut] + p1[random_cut:]\n",
    "    return c1, c2"
   ]
  },
  {
   "cell_type": "code",
   "execution_count": 12,
   "metadata": {},
   "outputs": [],
   "source": [
    "def _get_parent_combis(parents):\n",
    "    parent_combis = []\n",
    "    for i in range(len(parents)):\n",
    "        parent_combis.extend([(parents[i], x) for x in parents[i+1:]])\n",
    "\n",
    "    return parent_combis"
   ]
  },
  {
   "cell_type": "code",
   "execution_count": 13,
   "metadata": {},
   "outputs": [],
   "source": [
    "def make_many_kids(parents):\n",
    "    parent_combis = _get_parent_combis(parents)\n",
    "    \n",
    "    kids = []\n",
    "    for par_com in parent_combis:\n",
    "        kids.extend(_make_kids(*par_com))\n",
    "\n",
    "    return kids"
   ]
  },
  {
   "cell_type": "code",
   "execution_count": 14,
   "metadata": {},
   "outputs": [],
   "source": [
    "def get_best(population, scores, top=45):\n",
    "    return list(pd.Series(scores, index=population).sort_values().head(top).index)"
   ]
  },
  {
   "cell_type": "code",
   "execution_count": 15,
   "metadata": {},
   "outputs": [],
   "source": [
    "def mutation(s, position):\n",
    "    s = list(s)\n",
    "    s[position] = str(np.random.randint(1,10))\n",
    "    s = ''.join(s)\n",
    "    return s"
   ]
  },
  {
   "cell_type": "code",
   "execution_count": 16,
   "metadata": {},
   "outputs": [],
   "source": [
    "def mutate(original, to_mutate, number_of_mutations=1):\n",
    "    mutables = get_mutables(original)\n",
    "    positions = np.random.choice(mutables, size=number_of_mutations)\n",
    "    for pos in positions:\n",
    "        to_mutate = mutation(to_mutate, pos)\n",
    "                             \n",
    "    return to_mutate"
   ]
  },
  {
   "cell_type": "code",
   "execution_count": 17,
   "metadata": {},
   "outputs": [],
   "source": [
    "def mutate_population(original, population, fraction=1, number_of_mutations=1):\n",
    "    population = [mutate(original, x, number_of_mutations) if np.random.random()<fraction else x for x in population]\n",
    "    return population"
   ]
  },
  {
   "cell_type": "markdown",
   "metadata": {},
   "source": [
    "# Run"
   ]
  },
  {
   "cell_type": "code",
   "execution_count": 19,
   "metadata": {},
   "outputs": [
    {
     "name": "stdout",
     "output_type": "stream",
     "text": [
      " Iteration: 9 \t Best score: 26 \t Mean score: 33.91Wall time: 12.1 s\n"
     ]
    }
   ],
   "source": [
    "%%time\n",
    "# Itiate some variables\n",
    "final_solution = ''\n",
    "scores = [100]  # just a high number to start with\n",
    "population = generate_inits(original, 45)\n",
    "\n",
    "# Let's make lot's of kids\n",
    "for i in range(10):\n",
    "    kids = make_many_kids(population)\n",
    "    \n",
    "    # Mutate kids in a smart fashion. Not too agressive at the end\n",
    "    if np.min(scores) > 20:\n",
    "        kids = mutate_population(original, kids, fraction=1, number_of_mutations=2)\n",
    "    elif np.min(scores) > 6:\n",
    "        kids = mutate_population(original, kids, fraction=1, number_of_mutations=1)\n",
    "    else:\n",
    "        kids = mutate_population(original, kids, fraction=.5, number_of_mutations=1)\n",
    "        \n",
    "    # score population\n",
    "    population = np.unique(population + kids)\n",
    "    scores = score_population(population)\n",
    "    \n",
    "    # Check if we found the solution\n",
    "    if np.min(scores) == 0:\n",
    "        final_solution = get_best(population, scores, 1)[0]\n",
    "        sys.stdout.write(f'\\r The solution has been found at iteration {i}. Ow yeah :D')\n",
    "        break\n",
    "    \n",
    "    # Progessbar and new population\n",
    "    sys.stdout.write(f'\\r Iteration: {i} \\t Best score: {np.min(scores)} \\t Mean score: {np.mean(scores).round(2)}')\n",
    "    population = get_best(population, scores)"
   ]
  },
  {
   "cell_type": "code",
   "execution_count": null,
   "metadata": {},
   "outputs": [],
   "source": [
    "ind = np.argpartition(scores, 4)[4:]\n",
    "ind"
   ]
  },
  {
   "cell_type": "code",
   "execution_count": null,
   "metadata": {},
   "outputs": [],
   "source": [
    "np.array(scores)[ind]"
   ]
  },
  {
   "cell_type": "code",
   "execution_count": null,
   "metadata": {},
   "outputs": [],
   "source": [
    "print(final_solution==solution)\n",
    "string2df(final_solution)"
   ]
  },
  {
   "cell_type": "markdown",
   "metadata": {},
   "source": [
    "# End"
   ]
  }
 ],
 "metadata": {
  "kernelspec": {
   "display_name": "Python 3",
   "language": "python",
   "name": "python3"
  },
  "language_info": {
   "codemirror_mode": {
    "name": "ipython",
    "version": 3
   },
   "file_extension": ".py",
   "mimetype": "text/x-python",
   "name": "python",
   "nbconvert_exporter": "python",
   "pygments_lexer": "ipython3",
   "version": "3.7.1"
  }
 },
 "nbformat": 4,
 "nbformat_minor": 2
}
